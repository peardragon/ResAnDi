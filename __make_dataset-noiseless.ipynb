{
 "cells": [
  {
   "cell_type": "code",
   "execution_count": 2,
   "metadata": {
    "collapsed": false,
    "jupyter": {
     "outputs_hidden": false
    }
   },
   "outputs": [],
   "source": [
    "from utils._dataset_generation import dataset_generation"
   ]
  },
  {
   "cell_type": "code",
   "execution_count": 3,
   "metadata": {},
   "outputs": [
    {
     "name": "stdout",
     "output_type": "stream",
     "text": [
      "EXIST\n",
      "EXIST\n",
      "EXIST\n",
      "EXIST\n",
      "EXIST\n",
      "EXIST\n",
      "EXIST\n"
     ]
    }
   ],
   "source": [
    "# make dataset with no noise - For Erasing Method, Augmentation Results\n",
    "for i in range(5):\n",
    "    dataset_generation(length=\"Varying\", noise=\"None\", dataset_num=i, save_dir=f\"./dataset_noiseless/train/\")\n",
    "dataset_generation(length=\"Varying\", noise=\"None\", dataset_num=0, save_dir=f\"./dataset_noiseless/test/\")\n",
    "dataset_generation(length=\"Varying\", noise=\"None\", dataset_num=0, save_dir=f\"./dataset_noiseless/eval/\")"
   ]
  },
  {
   "cell_type": "code",
   "execution_count": 4,
   "metadata": {},
   "outputs": [
    {
     "name": "stdout",
     "output_type": "stream",
     "text": [
      "EXIST\n",
      "EXIST\n",
      "EXIST\n",
      "EXIST\n",
      "EXIST\n",
      "EXIST\n",
      "EXIST\n",
      "EXIST\n",
      "EXIST\n",
      "EXIST\n"
     ]
    }
   ],
   "source": [
    "# make dataset with no noise, length 1000 - For Statistical Relevance\n",
    "for i in range(5):\n",
    "    dataset_generation(length=\"Fixed\", noise=\"None\", dataset_num=i, save_dir=f\"./dataset_noiseless/train_1000/\")\n",
    "    dataset_generation(length=\"Fixed\", noise=\"None\", dataset_num=0, save_dir=f\"./dataset_noiseless/test_1000/\")\n",
    "    \n",
    "dataset_generation(length=\"Fixed\", noise=\"None\", dataset_num=0, save_dir=f\"./dataset_noiseless/eval_1000/\")"
   ]
  },
  {
   "cell_type": "code",
   "execution_count": null,
   "metadata": {},
   "outputs": [],
   "source": []
  },
  {
   "cell_type": "code",
   "execution_count": null,
   "metadata": {},
   "outputs": [],
   "source": []
  }
 ],
 "metadata": {
  "kernelspec": {
   "display_name": "andi2",
   "language": "python",
   "name": "andi2"
  },
  "language_info": {
   "codemirror_mode": {
    "name": "ipython",
    "version": 3
   },
   "file_extension": ".py",
   "mimetype": "text/x-python",
   "name": "python",
   "nbconvert_exporter": "python",
   "pygments_lexer": "ipython3",
   "version": "3.10.13"
  }
 },
 "nbformat": 4,
 "nbformat_minor": 4
}
