{
 "cells": [
  {
   "cell_type": "code",
   "execution_count": 3,
   "metadata": {},
   "outputs": [],
   "source": [
    "import torch\n",
    "import numpy as np\n",
    "import os\n",
    "\n",
    "from tqdm import tqdm\n",
    "from captum.attr import LayerGradCam\n",
    "from captum.attr import LayerAttribution\n",
    "\n",
    "from utils._resnet import resnet18_8\n",
    "from utils._preprocessing import _preprocessing\n",
    "from utils._gradcam import _save_dataset_gradcam, _save_dataset_gradcam_raw\n"
   ]
  },
  {
   "cell_type": "code",
   "execution_count": 4,
   "metadata": {},
   "outputs": [],
   "source": [
    "## noiseless data 10~1000 length Grad-CAM - For Erasing Method\n",
    "dataset_path = f\"./dataset_noiseless/test/0.npy\"\n",
    "model_path=\"./model_backups/resnet18_8_b64_lr0.0001_noiseless/checkpoint.pt\"\n",
    "_ = _save_dataset_gradcam(dataset_path, model_path, tag=f\"test_0-noiseless\")"
   ]
  },
  {
   "cell_type": "code",
   "execution_count": 5,
   "metadata": {},
   "outputs": [],
   "source": [
    "## noiseless data 10~1000 length Grad-CAM - For Augmentation\n",
    "dataset_path = f\"./dataset_noiseless/train/0.npy\"\n",
    "model_path=\"./model_backups/resnet18_8_b64_lr0.0001_noiseless/checkpoint.pt\"\n",
    "_ = _save_dataset_gradcam(dataset_path, model_path, tag=f\"0-aug-noiseless\")"
   ]
  }
 ],
 "metadata": {
  "kernelspec": {
   "display_name": "andi2",
   "language": "python",
   "name": "andi2"
  },
  "language_info": {
   "codemirror_mode": {
    "name": "ipython",
    "version": 3
   },
   "file_extension": ".py",
   "mimetype": "text/x-python",
   "name": "python",
   "nbconvert_exporter": "python",
   "pygments_lexer": "ipython3",
   "version": "3.10.13"
  }
 },
 "nbformat": 4,
 "nbformat_minor": 4
}
