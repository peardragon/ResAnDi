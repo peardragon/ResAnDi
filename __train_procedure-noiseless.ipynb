{
 "cells": [
  {
   "cell_type": "code",
   "execution_count": 2,
   "id": "819dcf5f-3ae6-4ea4-aac8-d97160688168",
   "metadata": {},
   "outputs": [],
   "source": [
    "import shutil\n",
    "\n",
    "from utils._resnet import resnet18_8\n",
    "from utils._preprocessing import _preprocessing\n",
    "from utils._train import train\n",
    "import numpy as np\n",
    "import os\n",
    "import scipy.io as sci"
   ]
  },
  {
   "cell_type": "code",
   "execution_count": 4,
   "id": "b2372eb3-6912-4cb9-9b84-d3d853896f7b",
   "metadata": {},
   "outputs": [],
   "source": [
    "def createFolder(directory):\n",
    "    try:\n",
    "        if not os.path.exists(directory):\n",
    "            os.makedirs(directory)\n",
    "    except OSError:\n",
    "        print ('Error: Creating directory. ' +  directory)"
   ]
  },
  {
   "cell_type": "code",
   "execution_count": 5,
   "id": "3f4e17c3-7a65-4b4c-ab56-1aef32b983c6",
   "metadata": {},
   "outputs": [
    {
     "name": "stdout",
     "output_type": "stream",
     "text": [
      "Trained Model Exist\n"
     ]
    }
   ],
   "source": [
    "## DATASET Preprocessing parameter setting ##\n",
    "\n",
    "train_dir_size = 5\n",
    "BATCH_SIZE = 64\n",
    "lr = 0.0001\n",
    "fpath = f\"./model_backups/resnet18_8_b{BATCH_SIZE}_lr{lr}_noiseless/\"\n",
    "createFolder(fpath)\n",
    "\n",
    "if os.path.exists(fpath + \"checkpoint.pt\"):\n",
    "    print(\"Trained Model Exist\")\n",
    "else:\n",
    "    \n",
    "    model = resnet18_8()\n",
    "    #############################################\n",
    "    \n",
    "    ## EVAL- DATASET PREPARE ##\n",
    "    print(\"Eval dataset prepare\")\n",
    "    \n",
    "    eval_set = np.load(\"./dataset_noiseless/eval/0.npy\", allow_pickle=True)\n",
    "    eval_dataloader = _preprocessing(eval_set, batch_size=BATCH_SIZE)\n",
    "    print(\"DONE\")\n",
    "    \n",
    "    ## TRAIN- DATASET PREPARE ##\n",
    "    print(\"Train dataset prepare\")\n",
    "    \n",
    "    train_dataloaders = []\n",
    "    \n",
    "    for i in range(train_dir_size):\n",
    "        print(f\"{i/train_dir_size*100:.2f}%..\", end=\"\\r\")\n",
    "        train_set = np.load(f\"./dataset_noiseless/train/{i}.npy\", allow_pickle=True)\n",
    "        train_dataloader = _preprocessing(train_set, batch_size=BATCH_SIZE)\n",
    "        train_dataloaders.append(train_dataloader)\n",
    "    \n",
    "    print(\"DONE\")\n",
    "    \n",
    "    ###########################\n",
    "    train(model, num_epochs=100, train_dataloaders=train_dataloaders, eval_dataloader=eval_dataloader,\n",
    "          save_path=\"./model_ckpt/\", lr=lr)\n",
    "    shutil.copy(\"./model_ckpt/checkpoint.pt\", fpath + \"checkpoint.pt\")\n",
    "        "
   ]
  },
  {
   "cell_type": "code",
   "execution_count": null,
   "id": "d2d43f75-db95-4ae3-9181-dca1df608977",
   "metadata": {},
   "outputs": [],
   "source": []
  }
 ],
 "metadata": {
  "kernelspec": {
   "display_name": "andi2",
   "language": "python",
   "name": "andi2"
  },
  "language_info": {
   "codemirror_mode": {
    "name": "ipython",
    "version": 3
   },
   "file_extension": ".py",
   "mimetype": "text/x-python",
   "name": "python",
   "nbconvert_exporter": "python",
   "pygments_lexer": "ipython3",
   "version": "3.10.13"
  }
 },
 "nbformat": 4,
 "nbformat_minor": 5
}
