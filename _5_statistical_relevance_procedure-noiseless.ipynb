{
 "cells": [
  {
   "cell_type": "code",
   "execution_count": 1,
   "id": "9c74841c-ceef-42c6-a0c0-8b413b02393b",
   "metadata": {},
   "outputs": [],
   "source": [
    "import numpy as np\n",
    "from utils._gradcam import _save_dataset_gradcam, _save_dataset_gradcam_raw\n",
    "from utils._preprocessing import _preprocessing_dataset, _preprocessing_dataset_noising"
   ]
  },
  {
   "cell_type": "code",
   "execution_count": 2,
   "id": "59fe759d-7d41-4397-8d46-d5dce83a1972",
   "metadata": {},
   "outputs": [],
   "source": [
    "## Grad-CAM Prepare"
   ]
  },
  {
   "cell_type": "code",
   "execution_count": 3,
   "id": "e7475b46-9fc2-4574-9205-5925baf48b6b",
   "metadata": {},
   "outputs": [
    {
     "name": "stdout",
     "output_type": "stream",
     "text": [
      "Current Index : 0\n",
      "Current Index : 1\n",
      "Current Index : 2\n",
      "Current Index : 3\n",
      "Current Index : 4\n"
     ]
    }
   ],
   "source": [
    "## train noise free data 1000 length Grad-CAM - For Statistical Relevance\n",
    "for i in range(5):\n",
    "    print(\"Current Index :\", i)\n",
    "    model_path = f\"./model_backups/resnet18_8_b64_lr0.0001_1000_noiseless/checkpoint.pt\"\n",
    "    _ = _save_dataset_gradcam_raw(f\"./dataset_noiseless/test_1000/{i}.npy\", model_path, tag=f\"test_{i}_1000\")"
   ]
  },
  {
   "cell_type": "code",
   "execution_count": 4,
   "id": "5db22ce2-a058-4005-8986-6645baf4b546",
   "metadata": {},
   "outputs": [
    {
     "name": "stdout",
     "output_type": "stream",
     "text": [
      "Current Index : 0\n",
      "Current Index : 1\n",
      "Current Index : 2\n",
      "Current Index : 3\n",
      "Current Index : 4\n"
     ]
    }
   ],
   "source": [
    "## train noise free data 1000 length Grad-CAM - For Statistical Relevance\n",
    "for i in range(5):\n",
    "    print(\"Current Index :\", i)\n",
    "    model_path = f\"./model_backups/resnet18_8_b64_lr0.0001_1000_noiseless/checkpoint.pt\"\n",
    "    _ = _save_dataset_gradcam_raw(f\"./dataset_noiseless/train_1000/{i}.npy\", model_path, tag=f\"train_{i}_1000\")"
   ]
  },
  {
   "cell_type": "code",
   "execution_count": 5,
   "id": "d6f5beb7-1c83-4209-a0eb-9a55da11642f",
   "metadata": {},
   "outputs": [],
   "source": [
    "## Statistical Feature Prepare"
   ]
  },
  {
   "cell_type": "code",
   "execution_count": 6,
   "id": "c2b8ca67-7792-4ace-9ae3-ac4700309905",
   "metadata": {},
   "outputs": [],
   "source": [
    "import os\n",
    "from utils._statistical_relevance import array_split, _save_dataset_features, _get_pearson_correlation"
   ]
  },
  {
   "cell_type": "code",
   "execution_count": 7,
   "id": "ea6731f3-c2ef-4278-b6c6-fab1caedca7c",
   "metadata": {},
   "outputs": [],
   "source": [
    "for i in range(5):\n",
    "    if os.path.exists(f\"./analysis_results/statistical_relevance/features/f1_train_{i}.npy\"):\n",
    "        pass\n",
    "    else:\n",
    "        traj_dataset = np.load(f\"./dataset_noiseless/train_1000/{i}.npy\", allow_pickle=True)\n",
    "        traj_dataset, _ = _preprocessing_dataset(traj_dataset)\n",
    "        split_traj_dataset = array_split(traj_dataset)\n",
    "        _save_dataset_features(split_traj_dataset=split_traj_dataset, tag=f\"_train_{i}\")"
   ]
  },
  {
   "cell_type": "code",
   "execution_count": 8,
   "id": "449581b4-fdc7-4d76-a251-6f04c65aeb91",
   "metadata": {},
   "outputs": [],
   "source": [
    "for i in range(5):\n",
    "    if os.path.exists(f\"./analysis_results/statistical_relevance/features/f1_test_{i}.npy\"):\n",
    "        pass\n",
    "    else:\n",
    "        traj_dataset = np.load(f\"./dataset_noiseless/test_1000/{i}.npy\", allow_pickle=True)\n",
    "        traj_dataset, _ = _preprocessing_dataset(traj_dataset)\n",
    "        split_traj_dataset = array_split(traj_dataset)\n",
    "        _save_dataset_features(split_traj_dataset=split_traj_dataset, tag=f\"_test_{i}\")"
   ]
  },
  {
   "cell_type": "code",
   "execution_count": 9,
   "id": "1980c515-0a15-43a3-8c26-f9f9401449e6",
   "metadata": {},
   "outputs": [
    {
     "name": "stdout",
     "output_type": "stream",
     "text": [
      "(1600000,) (1600000,) 0\n",
      "(1600000,) (1600000,) 1\n",
      "(1600000,) (1600000,) 2\n",
      "(1600000,) (1600000,) 3\n",
      "(1600000,) (1600000,) 0\n",
      "(1600000,) (1600000,) 1\n",
      "(1600000,) (1600000,) 2\n",
      "(1600000,) (1600000,) 3\n",
      "(1600000,) (1600000,) 0\n",
      "(1600000,) (1600000,) 1\n",
      "(1600000,) (1600000,) 2\n",
      "(1600000,) (1600000,) 3\n",
      "(1600000,) (1600000,) 0\n",
      "(1600000,) (1600000,) 1\n",
      "(1600000,) (1600000,) 2\n",
      "(1600000,) (1600000,) 3\n",
      "(1600000,) (1600000,) 0\n",
      "(1600000,) (1600000,) 1\n",
      "(1600000,) (1600000,) 2\n",
      "(1600000,) (1600000,) 3\n",
      "(1600000,) (1600000,) 0\n",
      "(1600000,) (1600000,) 1\n",
      "(1600000,) (1600000,) 2\n",
      "(1600000,) (1600000,) 3\n",
      "(1600000,) (1600000,) 0\n",
      "(1600000,) (1600000,) 1\n",
      "(1600000,) (1600000,) 2\n",
      "(1600000,) (1600000,) 3\n",
      "(1600000,) (1600000,) 0\n",
      "(1600000,) (1600000,) 1\n",
      "(1600000,) (1600000,) 2\n",
      "(1600000,) (1600000,) 3\n"
     ]
    }
   ],
   "source": [
    "_get_pearson_correlation(tag=\"train\")"
   ]
  },
  {
   "cell_type": "code",
   "execution_count": 10,
   "id": "b26b532e-ed5d-4215-9883-4dea8a05feed",
   "metadata": {},
   "outputs": [
    {
     "name": "stdout",
     "output_type": "stream",
     "text": [
      "(1600000,) (1600000,) 0\n",
      "(1600000,) (1600000,) 1\n",
      "(1600000,) (1600000,) 2\n",
      "(1600000,) (1600000,) 3\n",
      "(1600000,) (1600000,) 0\n",
      "(1600000,) (1600000,) 1\n",
      "(1600000,) (1600000,) 2\n",
      "(1600000,) (1600000,) 3\n",
      "(1600000,) (1600000,) 0\n",
      "(1600000,) (1600000,) 1\n",
      "(1600000,) (1600000,) 2\n",
      "(1600000,) (1600000,) 3\n",
      "(1600000,) (1600000,) 0\n",
      "(1600000,) (1600000,) 1\n",
      "(1600000,) (1600000,) 2\n",
      "(1600000,) (1600000,) 3\n",
      "(1600000,) (1600000,) 0\n",
      "(1600000,) (1600000,) 1\n",
      "(1600000,) (1600000,) 2\n",
      "(1600000,) (1600000,) 3\n",
      "(1600000,) (1600000,) 0\n",
      "(1600000,) (1600000,) 1\n",
      "(1600000,) (1600000,) 2\n",
      "(1600000,) (1600000,) 3\n",
      "(1600000,) (1600000,) 0\n",
      "(1600000,) (1600000,) 1\n",
      "(1600000,) (1600000,) 2\n",
      "(1600000,) (1600000,) 3\n",
      "(1600000,) (1600000,) 0\n",
      "(1600000,) (1600000,) 1\n",
      "(1600000,) (1600000,) 2\n",
      "(1600000,) (1600000,) 3\n"
     ]
    }
   ],
   "source": [
    "_get_pearson_correlation(tag=\"test\")"
   ]
  },
  {
   "cell_type": "code",
   "execution_count": null,
   "id": "33c8a266-f052-440b-b448-17c6df81f8eb",
   "metadata": {},
   "outputs": [],
   "source": []
  }
 ],
 "metadata": {
  "kernelspec": {
   "display_name": "andi2",
   "language": "python",
   "name": "andi2"
  },
  "language_info": {
   "codemirror_mode": {
    "name": "ipython",
    "version": 3
   },
   "file_extension": ".py",
   "mimetype": "text/x-python",
   "name": "python",
   "nbconvert_exporter": "python",
   "pygments_lexer": "ipython3",
   "version": "3.10.13"
  }
 },
 "nbformat": 4,
 "nbformat_minor": 5
}
