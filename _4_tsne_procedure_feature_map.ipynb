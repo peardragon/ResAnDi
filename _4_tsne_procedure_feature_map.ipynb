{
 "cells": [
  {
   "cell_type": "code",
   "execution_count": 3,
   "id": "37bf8666-5dcf-4cec-bb68-ea8228e0b106",
   "metadata": {},
   "outputs": [],
   "source": [
    "import os\n",
    "\n",
    "import numpy as np\n",
    "import torch\n",
    "\n",
    "from utils._resnet import resnet18_8\n",
    "from utils._preprocessing import _preprocessing\n",
    "from utils._tsne_analysis import feature_saving"
   ]
  },
  {
   "cell_type": "code",
   "execution_count": 4,
   "id": "a878d673-df4e-4631-969f-358d12592f84",
   "metadata": {},
   "outputs": [],
   "source": [
    "model_path = \"./model_backups/resnet18_8_b64_lr0.0001_1000_noiseless/checkpoint.pt\"\n",
    "model = resnet18_8()\n",
    "model.load_state_dict(torch.load(model_path), strict=False)\n",
    "model.eval()\n",
    "\"\""
   ]
  },
  {
   "cell_type": "code",
   "execution_count": 5,
   "id": "882f188d-bf61-4aba-9e35-e634751ebf79",
   "metadata": {},
   "outputs": [],
   "source": [
    "train_dataloaders = []\n",
    "\n",
    "for i in range(5):\n",
    "    dataset = np.load(f\"./dataset_noiseless/train_1000/{i}.npy\", allow_pickle=True)\n",
    "    dataloader = _preprocessing(dataset, batch_size=256)\n",
    "    train_dataloaders.append(dataloader)"
   ]
  },
  {
   "cell_type": "code",
   "execution_count": 9,
   "id": "89791c73-f061-44d4-8667-a1bea867e863",
   "metadata": {},
   "outputs": [
    {
     "name": "stderr",
     "output_type": "stream",
     "text": [
      "100%|██████████| 313/313 [00:06<00:00, 45.63it/s]\n",
      "100%|██████████| 313/313 [00:05<00:00, 60.58it/s]\n",
      "100%|██████████| 313/313 [00:05<00:00, 60.32it/s]\n",
      "100%|██████████| 313/313 [00:05<00:00, 61.48it/s]\n",
      "100%|██████████| 313/313 [00:05<00:00, 59.06it/s]\n"
     ]
    }
   ],
   "source": [
    "feature_saving(dataloaders, model)"
   ]
  },
  {
   "cell_type": "code",
   "execution_count": null,
   "id": "3449656f-6a5c-41eb-919b-74ac31801f1c",
   "metadata": {},
   "outputs": [],
   "source": [
    "# you can use cuml.manifold.TSNE for faster implementation, currently utils._tsne_analysis run with sklearn (slow)"
   ]
  }
 ],
 "metadata": {
  "kernelspec": {
   "display_name": "andi2",
   "language": "python",
   "name": "andi2"
  },
  "language_info": {
   "codemirror_mode": {
    "name": "ipython",
    "version": 3
   },
   "file_extension": ".py",
   "mimetype": "text/x-python",
   "name": "python",
   "nbconvert_exporter": "python",
   "pygments_lexer": "ipython3",
   "version": "3.10.13"
  }
 },
 "nbformat": 4,
 "nbformat_minor": 5
}
