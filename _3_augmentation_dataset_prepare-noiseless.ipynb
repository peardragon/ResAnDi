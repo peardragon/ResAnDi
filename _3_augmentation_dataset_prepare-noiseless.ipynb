{
 "cells": [
  {
   "cell_type": "code",
   "execution_count": 1,
   "id": "e3e998b8-6b8a-4985-a44b-217e16f7b335",
   "metadata": {},
   "outputs": [],
   "source": [
    "import os\n",
    "import torch\n",
    "import numpy as np\n",
    "import matplotlib.pyplot as plt\n",
    "\n",
    "from utils._resnet import resnet18_8\n",
    "from utils._gradcam import _save_dataset_gradcam\n",
    "from utils._augmentation import _save_aug_dataset_rot"
   ]
  },
  {
   "cell_type": "code",
   "execution_count": 2,
   "id": "f5880741-2863-4c9f-98a4-a7d851ce040e",
   "metadata": {},
   "outputs": [],
   "source": [
    "## noiseless data 10~1000 length Grad-CAM - For Augmentation\n",
    "dataset_path = f\"./dataset_noiseless/train/0.npy\"\n",
    "model_path=\"./model_backups/resnet18_8_b64_lr0.0001_noiseless/checkpoint.pt\"\n",
    "_ = _save_dataset_gradcam(dataset_path, model_path, tag=f\"0-aug-noiseless\")"
   ]
  },
  {
   "cell_type": "code",
   "execution_count": 3,
   "id": "da60c1c0-0a57-4c85-adf1-6f4cebb56c7a",
   "metadata": {},
   "outputs": [],
   "source": [
    "dataset = np.load(f\"./dataset_noiseless/train/0.npy\", allow_pickle=True)\n",
    "gradcam = np.load(f\"./Grad-CAM/GradCAM-Residual-0-aug-noiseless.npy\")"
   ]
  },
  {
   "cell_type": "code",
   "execution_count": 4,
   "id": "484716e6-59ca-47db-a7e4-9aaff17089cb",
   "metadata": {},
   "outputs": [
    {
     "name": "stdout",
     "output_type": "stream",
     "text": [
      "Exist\n",
      "Exist\n"
     ]
    }
   ],
   "source": [
    "percentile = 60\n",
    "_save_aug_dataset_rot(dataset, gradcam, 100, aug_size=percentile)\n",
    "_save_aug_dataset_rot(dataset, gradcam, percentile, aug_size=percentile)"
   ]
  }
 ],
 "metadata": {
  "kernelspec": {
   "display_name": "andi2",
   "language": "python",
   "name": "andi2"
  },
  "language_info": {
   "codemirror_mode": {
    "name": "ipython",
    "version": 3
   },
   "file_extension": ".py",
   "mimetype": "text/x-python",
   "name": "python",
   "nbconvert_exporter": "python",
   "pygments_lexer": "ipython3",
   "version": "3.10.13"
  }
 },
 "nbformat": 4,
 "nbformat_minor": 5
}
