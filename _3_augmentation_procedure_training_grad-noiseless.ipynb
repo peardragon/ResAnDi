{
 "cells": [
  {
   "cell_type": "code",
   "execution_count": 1,
   "id": "26d661b1-0191-4fc3-a56f-410367516eaf",
   "metadata": {},
   "outputs": [],
   "source": [
    "import shutil\n",
    "import numpy as np\n",
    "import os\n",
    "\n",
    "from utils._resnet import resnet18_8\n",
    "from utils._preprocessing import _preprocessing\n",
    "from utils._train import train"
   ]
  },
  {
   "cell_type": "code",
   "execution_count": 2,
   "id": "ff8dd836-a348-4b6a-89f9-ffe37909ba31",
   "metadata": {},
   "outputs": [],
   "source": [
    "def createFolder(directory):\n",
    "    try:\n",
    "        if not os.path.exists(directory):\n",
    "            os.makedirs(directory)\n",
    "    except OSError:\n",
    "        print ('Error: Creating directory. ' +  directory)"
   ]
  },
  {
   "cell_type": "code",
   "execution_count": 3,
   "id": "47de2eb7-3ce5-41df-ace5-ad6a640bc2ae",
   "metadata": {},
   "outputs": [
    {
     "name": "stdout",
     "output_type": "stream",
     "text": [
      "Trained Model Exist\n",
      "Trained Model Exist\n",
      "Trained Model Exist\n",
      "Trained Model Exist\n",
      "Trained Model Exist\n",
      "Trained Model Exist\n",
      "Trained Model Exist\n",
      "Trained Model Exist\n",
      "Trained Model Exist\n",
      "Trained Model Exist\n"
     ]
    }
   ],
   "source": [
    "# rand aug\n",
    "\n",
    "train_dir_size = 1\n",
    "BATCH_SIZE = 64\n",
    "lr = 0.0001\n",
    "for aug_size in [60]:\n",
    "    fpath = f\"./model_backups/resnet18_8_b{BATCH_SIZE}_lr{lr}_aug_grad_small_{aug_size}_noiseless/\"\n",
    "    createFolder(fpath)\n",
    "    for tag in np.arange(10):\n",
    "        if os.path.exists(fpath + f\"checkpoint{tag}.pt\"):\n",
    "            print(\"Trained Model Exist\")\n",
    "        else:\n",
    "            model = resnet18_8()\n",
    "            #############################################\n",
    "            \n",
    "            ## EVAL- DATASET PREPARE ##\n",
    "            print(\"Eval dataset prepare\")\n",
    "            \n",
    "            eval_set = np.load(\"./dataset_noiseless/eval/0.npy\", allow_pickle=True)\n",
    "            eval_dataloader = _preprocessing(eval_set, batch_size=BATCH_SIZE)\n",
    "            print(\"DONE\")\n",
    "            \n",
    "            ## TRAIN- DATASET PREPARE ##\n",
    "            print(\"Train dataset prepare\")\n",
    "            \n",
    "            train_dataloaders = []\n",
    "            \n",
    "            for i in range(train_dir_size):\n",
    "                print(f\"{i/train_dir_size*100:.2f}%..\", end=\"\\r\")\n",
    "                train_set = np.load(f\"./dataset_noiseless/aug{aug_size}/{i}_p{aug_size}.npy\", allow_pickle=True)\n",
    "                train_dataloader = _preprocessing(train_set, batch_size=BATCH_SIZE)\n",
    "                train_dataloaders.append(train_dataloader)\n",
    "            \n",
    "            print(\"DONE\")\n",
    "            \n",
    "            ###########################\n",
    "            train(model, num_epochs=100, train_dataloaders=train_dataloaders, eval_dataloader=eval_dataloader,\n",
    "                  save_path=\"./model_ckpt/\", lr=lr, device=\"cuda:3\")\n",
    "            shutil.copy(\"./model_ckpt/checkpoint.pt\", fpath + f\"checkpoint{tag}.pt\")\n",
    "            "
   ]
  },
  {
   "cell_type": "code",
   "execution_count": null,
   "id": "15a6797e-8b51-4ac0-83e4-73cbe3ee92c8",
   "metadata": {},
   "outputs": [],
   "source": []
  }
 ],
 "metadata": {
  "kernelspec": {
   "display_name": "andi2",
   "language": "python",
   "name": "andi2"
  },
  "language_info": {
   "codemirror_mode": {
    "name": "ipython",
    "version": 3
   },
   "file_extension": ".py",
   "mimetype": "text/x-python",
   "name": "python",
   "nbconvert_exporter": "python",
   "pygments_lexer": "ipython3",
   "version": "3.10.13"
  }
 },
 "nbformat": 4,
 "nbformat_minor": 5
}
